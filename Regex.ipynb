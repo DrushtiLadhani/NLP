{
 "cells": [
  {
   "cell_type": "code",
   "execution_count": 1,
   "id": "372afc10",
   "metadata": {},
   "outputs": [],
   "source": [
    "import re"
   ]
  },
  {
   "cell_type": "code",
   "execution_count": 2,
   "id": "03b71e8e",
   "metadata": {},
   "outputs": [],
   "source": [
    "sentences= \"I was born in the year 2002\""
   ]
  },
  {
   "cell_type": "code",
   "execution_count": 3,
   "id": "a3d641d3",
   "metadata": {},
   "outputs": [
    {
     "data": {
      "text/plain": [
       "'I was born in the year 2002'"
      ]
     },
     "execution_count": 3,
     "metadata": {},
     "output_type": "execute_result"
    }
   ],
   "source": [
    "sentences"
   ]
  },
  {
   "cell_type": "code",
   "execution_count": 4,
   "id": "f84cdffa",
   "metadata": {},
   "outputs": [
    {
     "data": {
      "text/plain": [
       "'I was born in the year ####'"
      ]
     },
     "execution_count": 4,
     "metadata": {},
     "output_type": "execute_result"
    }
   ],
   "source": [
    "re.sub(r'\\d',\"#\",sentences)"
   ]
  },
  {
   "cell_type": "code",
   "execution_count": 5,
   "id": "d282066b",
   "metadata": {},
   "outputs": [
    {
     "data": {
      "text/plain": [
       "'I was born in the year     '"
      ]
     },
     "execution_count": 5,
     "metadata": {},
     "output_type": "execute_result"
    }
   ],
   "source": [
    "re.sub(r'\\d',\" \",sentences)"
   ]
  },
  {
   "cell_type": "code",
   "execution_count": 6,
   "id": "6275a1a2",
   "metadata": {},
   "outputs": [
    {
     "data": {
      "text/plain": [
       "'***********************2002'"
      ]
     },
     "execution_count": 6,
     "metadata": {},
     "output_type": "execute_result"
    }
   ],
   "source": [
    "re.sub(r'\\D',\"*\",sentences)"
   ]
  },
  {
   "cell_type": "code",
   "execution_count": 7,
   "id": "b0ea6776",
   "metadata": {},
   "outputs": [
    {
     "data": {
      "text/plain": [
       "'I was born in the year ####'"
      ]
     },
     "execution_count": 7,
     "metadata": {},
     "output_type": "execute_result"
    }
   ],
   "source": [
    "re.sub(r'[0-9]',\"#\",sentences)"
   ]
  },
  {
   "cell_type": "code",
   "execution_count": 8,
   "id": "491d0a77",
   "metadata": {},
   "outputs": [
    {
     "data": {
      "text/plain": [
       "'#######################2002'"
      ]
     },
     "execution_count": 8,
     "metadata": {},
     "output_type": "execute_result"
    }
   ],
   "source": [
    "re.sub(r'[^0-9]',\"#\",sentences)"
   ]
  },
  {
   "cell_type": "code",
   "execution_count": 9,
   "id": "12cd6441",
   "metadata": {},
   "outputs": [
    {
     "data": {
      "text/plain": [
       "'# ### #### ## ### #### ####'"
      ]
     },
     "execution_count": 9,
     "metadata": {},
     "output_type": "execute_result"
    }
   ],
   "source": [
    "re.sub(r'\\w',\"#\",sentences)"
   ]
  },
  {
   "cell_type": "code",
   "execution_count": 10,
   "id": "178a0058",
   "metadata": {},
   "outputs": [
    {
     "data": {
      "text/plain": [
       "'I#was#born#in#the#year#2002'"
      ]
     },
     "execution_count": 10,
     "metadata": {},
     "output_type": "execute_result"
    }
   ],
   "source": [
    "re.sub(r'\\W',\"#\",sentences)"
   ]
  },
  {
   "cell_type": "code",
   "execution_count": 11,
   "id": "a8ec169e",
   "metadata": {},
   "outputs": [
    {
     "data": {
      "text/plain": [
       "'# ### #### ## ### #### ####'"
      ]
     },
     "execution_count": 11,
     "metadata": {},
     "output_type": "execute_result"
    }
   ],
   "source": [
    "re.sub(r'[a-zA-z0-9]','#',sentences)"
   ]
  },
  {
   "cell_type": "code",
   "execution_count": 12,
   "id": "0d3136e9",
   "metadata": {},
   "outputs": [
    {
     "data": {
      "text/plain": [
       "'I#was#born#in#the#year#2002'"
      ]
     },
     "execution_count": 12,
     "metadata": {},
     "output_type": "execute_result"
    }
   ],
   "source": [
    "re.sub(r'[^a-zA-z0-9]','#',sentences)"
   ]
  },
  {
   "cell_type": "code",
   "execution_count": 13,
   "id": "9f28871d",
   "metadata": {},
   "outputs": [
    {
     "data": {
      "text/plain": [
       "'I#was#born#in#the#year#2002'"
      ]
     },
     "execution_count": 13,
     "metadata": {},
     "output_type": "execute_result"
    }
   ],
   "source": [
    "re.sub(r'\\s','#',sentences)"
   ]
  },
  {
   "cell_type": "code",
   "execution_count": 14,
   "id": "976be29c",
   "metadata": {},
   "outputs": [
    {
     "data": {
      "text/plain": [
       "'# ### #### ## ### #### ####'"
      ]
     },
     "execution_count": 14,
     "metadata": {},
     "output_type": "execute_result"
    }
   ],
   "source": [
    "re.sub(r'\\S','#',sentences)"
   ]
  },
  {
   "cell_type": "code",
   "execution_count": 15,
   "id": "29939927",
   "metadata": {},
   "outputs": [
    {
     "data": {
      "text/plain": [
       "'I w#s #orn in the ye#r 2002'"
      ]
     },
     "execution_count": 15,
     "metadata": {},
     "output_type": "execute_result"
    }
   ],
   "source": [
    "re.sub(r'[ab]','#',sentences)"
   ]
  },
  {
   "cell_type": "code",
   "execution_count": 16,
   "id": "ab53cf60",
   "metadata": {},
   "outputs": [
    {
     "data": {
      "text/plain": [
       "'I was born # the year 2002'"
      ]
     },
     "execution_count": 16,
     "metadata": {},
     "output_type": "execute_result"
    }
   ],
   "source": [
    "re.sub(r'in','#',sentences)"
   ]
  },
  {
   "cell_type": "code",
   "execution_count": 17,
   "id": "d720d406",
   "metadata": {},
   "outputs": [
    {
     "data": {
      "text/plain": [
       "'I ### #### ## ### #### 2002'"
      ]
     },
     "execution_count": 17,
     "metadata": {},
     "output_type": "execute_result"
    }
   ],
   "source": [
    "re.sub(r'[a-z]','#',sentences)"
   ]
  },
  {
   "cell_type": "code",
   "execution_count": 18,
   "id": "aac6aa95",
   "metadata": {},
   "outputs": [
    {
     "data": {
      "text/plain": [
       "'# ### #### ## ### #### 2002'"
      ]
     },
     "execution_count": 18,
     "metadata": {},
     "output_type": "execute_result"
    }
   ],
   "source": [
    "re.sub(r'[a-zA-Z]','#',sentences)"
   ]
  },
  {
   "cell_type": "code",
   "execution_count": 19,
   "id": "c448ca76",
   "metadata": {},
   "outputs": [
    {
     "data": {
      "text/plain": [
       "'# ### #### ## ### #### 2002'"
      ]
     },
     "execution_count": 19,
     "metadata": {},
     "output_type": "execute_result"
    }
   ],
   "source": [
    "re.sub(r'[a-z]','#',sentences,flags=re.I)"
   ]
  },
  {
   "cell_type": "code",
   "execution_count": 20,
   "id": "abab7627",
   "metadata": {},
   "outputs": [],
   "source": [
    "sentence_2= 'My name is Drushti. Drushti is 20 years old'"
   ]
  },
  {
   "cell_type": "code",
   "execution_count": 21,
   "id": "80651097",
   "metadata": {},
   "outputs": [
    {
     "data": {
      "text/plain": [
       "'My name is Drushti. Drushti is 20 years old'"
      ]
     },
     "execution_count": 21,
     "metadata": {},
     "output_type": "execute_result"
    }
   ],
   "source": [
    "sentence_2"
   ]
  },
  {
   "cell_type": "code",
   "execution_count": 22,
   "id": "eb32a773",
   "metadata": {},
   "outputs": [
    {
     "data": {
      "text/plain": [
       "'My name is Drushti. Drushti is 20 years old'"
      ]
     },
     "execution_count": 22,
     "metadata": {},
     "output_type": "execute_result"
    }
   ],
   "source": [
    "re.sub(r'drushti','pallavi',sentence_2)"
   ]
  },
  {
   "cell_type": "code",
   "execution_count": 23,
   "id": "929aca31",
   "metadata": {},
   "outputs": [
    {
     "data": {
      "text/plain": [
       "'My name is Drushti. Drushti is 20 years old'"
      ]
     },
     "execution_count": 23,
     "metadata": {},
     "output_type": "execute_result"
    }
   ],
   "source": [
    "re.sub(r'drushti','pallavi',sentence_2,count=1)"
   ]
  },
  {
   "cell_type": "code",
   "execution_count": 24,
   "id": "e6389bb1",
   "metadata": {},
   "outputs": [
    {
     "data": {
      "text/plain": [
       "'I was born in the year 2002'"
      ]
     },
     "execution_count": 24,
     "metadata": {},
     "output_type": "execute_result"
    }
   ],
   "source": [
    "sentences"
   ]
  },
  {
   "cell_type": "code",
   "execution_count": 25,
   "id": "26dc4eac",
   "metadata": {},
   "outputs": [
    {
     "data": {
      "text/plain": [
       "<_sre.SRE_Match object; span=(0, 27), match='I was born in the year 2002'>"
      ]
     },
     "execution_count": 25,
     "metadata": {},
     "output_type": "execute_result"
    }
   ],
   "source": [
    "re.match(r'.*',sentences)"
   ]
  },
  {
   "cell_type": "code",
   "execution_count": 26,
   "id": "76c414cc",
   "metadata": {},
   "outputs": [],
   "source": [
    "sentence_3= ''"
   ]
  },
  {
   "cell_type": "code",
   "execution_count": 27,
   "id": "9ff4ce0b",
   "metadata": {},
   "outputs": [
    {
     "data": {
      "text/plain": [
       "''"
      ]
     },
     "execution_count": 27,
     "metadata": {},
     "output_type": "execute_result"
    }
   ],
   "source": [
    "sentence_3"
   ]
  },
  {
   "cell_type": "code",
   "execution_count": 28,
   "id": "a44f08f6",
   "metadata": {},
   "outputs": [
    {
     "data": {
      "text/plain": [
       "<_sre.SRE_Match object; span=(0, 0), match=''>"
      ]
     },
     "execution_count": 28,
     "metadata": {},
     "output_type": "execute_result"
    }
   ],
   "source": [
    "re.match(r'.*',sentence_3)"
   ]
  },
  {
   "cell_type": "code",
   "execution_count": 31,
   "id": "d9964151",
   "metadata": {},
   "outputs": [],
   "source": [
    "re.match(r'.+',sentence_3)"
   ]
  },
  {
   "cell_type": "code",
   "execution_count": 32,
   "id": "3140e154",
   "metadata": {},
   "outputs": [
    {
     "data": {
      "text/plain": [
       "<_sre.SRE_Match object; span=(0, 27), match='I was born in the year 2002'>"
      ]
     },
     "execution_count": 32,
     "metadata": {},
     "output_type": "execute_result"
    }
   ],
   "source": [
    "re.match(r'.+',sentences)"
   ]
  },
  {
   "cell_type": "code",
   "execution_count": 34,
   "id": "c9c9c7e5",
   "metadata": {},
   "outputs": [
    {
     "data": {
      "text/plain": [
       "<_sre.SRE_Match object; span=(0, 1), match='I'>"
      ]
     },
     "execution_count": 34,
     "metadata": {},
     "output_type": "execute_result"
    }
   ],
   "source": [
    "re.search(r'^I',sentences)"
   ]
  },
  {
   "cell_type": "code",
   "execution_count": 36,
   "id": "35bcf195",
   "metadata": {},
   "outputs": [
    {
     "data": {
      "text/plain": [
       "<_sre.SRE_Match object; span=(23, 27), match='2002'>"
      ]
     },
     "execution_count": 36,
     "metadata": {},
     "output_type": "execute_result"
    }
   ],
   "source": [
    "re.search(r'2002$',sentences)"
   ]
  }
 ],
 "metadata": {
  "kernelspec": {
   "display_name": "Python 3",
   "language": "python",
   "name": "python3"
  },
  "language_info": {
   "codemirror_mode": {
    "name": "ipython",
    "version": 3
   },
   "file_extension": ".py",
   "mimetype": "text/x-python",
   "name": "python",
   "nbconvert_exporter": "python",
   "pygments_lexer": "ipython3",
   "version": "3.6.13"
  }
 },
 "nbformat": 4,
 "nbformat_minor": 5
}
